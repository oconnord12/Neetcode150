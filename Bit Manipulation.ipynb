{
 "cells": [
  {
   "cell_type": "markdown",
   "id": "64383492",
   "metadata": {},
   "source": [
    "# Bit Manipulation"
   ]
  },
  {
   "cell_type": "markdown",
   "id": "b84378b5",
   "metadata": {},
   "source": [
    "### Question 1: Single Number\n",
    "#### Difficulty: Easy\n",
    "\n",
    "Given a non-empty array of integers nums, every element appears twice except for one. Find that single one.\n",
    "\n",
    "You must implement a solution with a linear runtime complexity and use only constant extra space.\n",
    "\n",
    "**Example**\n",
    "```\n",
    "Input: nums = [2,2,1]\n",
    "Output: 1\n",
    "```"
   ]
  },
  {
   "cell_type": "code",
   "execution_count": 5,
   "id": "0ff84268",
   "metadata": {},
   "outputs": [],
   "source": [
    "class Solution:\n",
    "    def singleNumber(self, nums: list[int]) -> int:\n",
    "        "
   ]
  },
  {
   "cell_type": "code",
   "execution_count": 6,
   "id": "babd3bfc",
   "metadata": {},
   "outputs": [],
   "source": [
    "soln = Solution()\n",
    "soln.singleNumber([2,2,4,4,1])"
   ]
  },
  {
   "cell_type": "code",
   "execution_count": null,
   "id": "9325f010",
   "metadata": {},
   "outputs": [],
   "source": []
  }
 ],
 "metadata": {
  "kernelspec": {
   "display_name": "Python 3 (ipykernel)",
   "language": "python",
   "name": "python3"
  },
  "language_info": {
   "codemirror_mode": {
    "name": "ipython",
    "version": 3
   },
   "file_extension": ".py",
   "mimetype": "text/x-python",
   "name": "python",
   "nbconvert_exporter": "python",
   "pygments_lexer": "ipython3",
   "version": "3.10.9"
  }
 },
 "nbformat": 4,
 "nbformat_minor": 5
}
