{
 "cells": [
  {
   "cell_type": "markdown",
   "id": "2ba31999",
   "metadata": {},
   "source": [
    "# Bit Manipulation"
   ]
  },
  {
   "cell_type": "markdown",
   "id": "3392bdf5",
   "metadata": {},
   "source": [
    "### Question 1: Single Number\n",
    "#### Difficulty: Easy\n",
    "\n",
    "Given a non-empty array of integers nums, every element appears twice except for one. Find that single one.\n",
    "\n",
    "You must implement a solution with a linear runtime complexity and use only constant extra space.\n",
    "\n",
    "**Example**\n",
    "```\n",
    "Input: nums = [2,2,1]\n",
    "Output: 1\n",
    "```"
   ]
  },
  {
   "cell_type": "code",
   "execution_count": null,
   "id": "9e69a4d6",
   "metadata": {},
   "outputs": [],
   "source": [
    "class Solution:\n",
    "    def singleNumber(self, nums: list[int]) -> int:\n",
    "        result = 0\n",
    "        for num in nums:\n",
    "            result = num ^ result\n",
    "        return result"
   ]
  },
  {
   "cell_type": "code",
   "execution_count": null,
   "id": "d3e093cc",
   "metadata": {},
   "outputs": [],
   "source": [
    "soln = Solution()\n",
    "soln.singleNumber([2,2,4,4,1,1,5])"
   ]
  },
  {
   "cell_type": "markdown",
   "id": "20241f4a",
   "metadata": {},
   "source": [
    "\n",
    "Using the exclusive or (XOR) `^` logical operator in python we can compare each number to each other in binary. The XOR truth table is shown below, with Q being the output and A and B being a binary number.\n",
    "\n",
    "| A | B | Q |\n",
    "|---|---|---|\n",
    "| 0 | 0 | 0 |\n",
    "| 1 | 0 | 1 |\n",
    "| 0 | 1 | 1 |\n",
    "| 1 | 1 | 0 |\n",
    "\n",
    "The operatorion is down bitwise, starting from the 1's place. So in the `soln` above, 2 (binary: 1 0) XOR (binary: 0 0) = 2."
   ]
  },
  {
   "cell_type": "code",
   "execution_count": null,
   "id": "434ea41a",
   "metadata": {},
   "outputs": [],
   "source": [
    "2 ^ 0 "
   ]
  },
  {
   "cell_type": "markdown",
   "id": "dd5c42f3",
   "metadata": {},
   "source": [
    "### Question 2: Sum of Two Integers\n",
    "#### Difficulty: Medium\n",
    "\n",
    "Given two integers a and b, return the sum of the two integers without using the operators + and -.\n",
    "\n",
    "Constraints:\n",
    "\n",
    "-1000 <= a, b <= 1000\n",
    "\n",
    "\n",
    "**Example**\n",
    "```\n",
    "Input: nums = [2,2]\n",
    "Output: 4\n",
    "```"
   ]
  },
  {
   "cell_type": "code",
   "execution_count": 6,
   "id": "4e45c651",
   "metadata": {},
   "outputs": [],
   "source": [
    "class Solution:\n",
    "    def getSum(self, a: int, b: int) -> int:\n",
    "        a_bin, b_bin = self.same_digs(a,b)\n",
    "        \n",
    "        c_in = 0\n",
    "        output = []\n",
    "        is_neg = False\n",
    "        if a<0 or b<0:\n",
    "            is_neg = True\n",
    "        \n",
    "        \n",
    "        for i in range(-1,-len(a_bin)-1,-1):    \n",
    "            c_in, s = self.fullAdder(int(a_bin[i]),int(b_bin[i]),c_in)\n",
    "            output.append(str(s))\n",
    "        output.append(str(c_in))\n",
    "        \n",
    "        output = \"\".join(output[::-1])\n",
    "        return int(output,2)\n",
    "    \n",
    "    def fullAdder(self, a:int, b:int, c_in:int):\n",
    "        c_out = (a & b) | ((a ^ b) & c_in)\n",
    "        s = (a ^ b) ^ c_in\n",
    "        return c_out, s\n",
    "    \n",
    "    def same_digs(self, a:int, b:int):\n",
    "        a_bin = bin(a)[2:]\n",
    "        b_bin = bin(b)[2:]\n",
    "        max_len = max(len(a_bin),len(b_bin))\n",
    "        a_bin = a_bin.zfill(max_len)\n",
    "        b_bin = b_bin.zfill(max_len)\n",
    "        return a_bin, b_bin\n",
    "    \n"
   ]
  },
  {
   "cell_type": "code",
   "execution_count": 11,
   "id": "3baa2f03",
   "metadata": {},
   "outputs": [
    {
     "data": {
      "text/plain": [
       "100001"
      ]
     },
     "execution_count": 11,
     "metadata": {},
     "output_type": "execute_result"
    }
   ],
   "source": [
    "soln = Solution()\n",
    "soln.getSum(100000,1)"
   ]
  },
  {
   "cell_type": "code",
   "execution_count": null,
   "id": "2c6de8e7",
   "metadata": {},
   "outputs": [],
   "source": [
    "class Solution:\n",
    "    def getSum(self, a: int, b: int) -> int:\n",
    "        while b != 0:\n",
    "            carry = a & b  # Calculate the carry bits\n",
    "            a = a ^ b  # Add without carrying\n",
    "            b = carry << 1  # Shift the carry bits to the left by 1 position\n",
    "\n",
    "        return a"
   ]
  },
  {
   "cell_type": "code",
   "execution_count": null,
   "id": "f260219f",
   "metadata": {},
   "outputs": [],
   "source": [
    "soln = Solution()\n",
    "soln.getSum(120,-2)"
   ]
  },
  {
   "cell_type": "code",
   "execution_count": 4,
   "id": "7b17fb3d",
   "metadata": {},
   "outputs": [
    {
     "data": {
      "text/plain": [
       "64"
      ]
     },
     "execution_count": 4,
     "metadata": {},
     "output_type": "execute_result"
    }
   ],
   "source": [
    "a = 2\n",
    "a << 5"
   ]
  },
  {
   "cell_type": "markdown",
   "id": "2c93d6fd",
   "metadata": {},
   "source": [
    "![Image alt text](fullAdder-1-1024x473.png)\n",
    "\n"
   ]
  },
  {
   "cell_type": "code",
   "execution_count": 8,
   "id": "067fa88e",
   "metadata": {},
   "outputs": [
    {
     "name": "stderr",
     "output_type": "stream",
     "text": [
      "'[Image' is not recognized as an internal or external command,\n",
      "operable program or batch file.\n"
     ]
    }
   ],
   "source": [
    "![Image alt text](8bit-adder.png)"
   ]
  },
  {
   "cell_type": "code",
   "execution_count": null,
   "id": "799d83c5",
   "metadata": {},
   "outputs": [],
   "source": [
    "len(bin(1000))-2"
   ]
  }
 ],
 "metadata": {
  "kernelspec": {
   "display_name": "Python 3 (ipykernel)",
   "language": "python",
   "name": "python3"
  },
  "language_info": {
   "codemirror_mode": {
    "name": "ipython",
    "version": 3
   },
   "file_extension": ".py",
   "mimetype": "text/x-python",
   "name": "python",
   "nbconvert_exporter": "python",
   "pygments_lexer": "ipython3",
   "version": "3.10.9"
  }
 },
 "nbformat": 4,
 "nbformat_minor": 5
}
