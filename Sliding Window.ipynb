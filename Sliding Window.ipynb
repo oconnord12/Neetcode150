{
 "cells": [
  {
   "cell_type": "markdown",
   "id": "666e92d6",
   "metadata": {},
   "source": [
    "# Sliding Window\n"
   ]
  },
  {
   "cell_type": "markdown",
   "id": "79070792",
   "metadata": {},
   "source": [
    "### Question 1: Best Time to Buy and Sell Stock\n",
    "\n",
    "#### Difficulty: Easy\n",
    "\n",
    "You are given an array prices where prices[i] is the price of a given stock on the ith day.\n",
    "\n",
    "You want to maximize your profit by choosing a single day to buy one stock and choosing a different day in the future to sell that stock.\n",
    "\n",
    "Return the maximum profit you can achieve from this transaction. If you cannot achieve any profit, return 0.\n",
    "\n",
    "**Example**\n",
    "```\n",
    "Input: prices = [7,1,5,3,6,4]\n",
    "Output: 5\n",
    "Explanation: Buy on day 2 (price = 1) and sell on day 5 (price = 6), profit = 6-1 = 5.\n",
    "Note that buying on day 2 and selling on day 1 is not allowed because you must buy before you sell.\n",
    "```"
   ]
  },
  {
   "cell_type": "code",
   "execution_count": 1,
   "id": "571ac6a8",
   "metadata": {},
   "outputs": [],
   "source": [
    "class Solution:\n",
    "    def maxProfit(self, prices: list[int]) -> int:\n",
    "        "
   ]
  },
  {
   "cell_type": "code",
   "execution_count": 2,
   "id": "50093432",
   "metadata": {},
   "outputs": [],
   "source": [
    "soln = Solution()\n",
    "soln.maxProfit([7,1,5,3,6,4])"
   ]
  }
 ],
 "metadata": {
  "kernelspec": {
   "display_name": "Python 3 (ipykernel)",
   "language": "python",
   "name": "python3"
  },
  "language_info": {
   "codemirror_mode": {
    "name": "ipython",
    "version": 3
   },
   "file_extension": ".py",
   "mimetype": "text/x-python",
   "name": "python",
   "nbconvert_exporter": "python",
   "pygments_lexer": "ipython3",
   "version": "3.10.9"
  }
 },
 "nbformat": 4,
 "nbformat_minor": 5
}
