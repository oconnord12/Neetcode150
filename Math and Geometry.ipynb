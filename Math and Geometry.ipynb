{
 "cells": [
  {
   "cell_type": "markdown",
   "id": "b3065708",
   "metadata": {},
   "source": [
    "# Math and Geometry"
   ]
  },
  {
   "cell_type": "markdown",
   "id": "9a048b9b",
   "metadata": {},
   "source": [
    "### Question 1: Happy Number\n",
    "#### Difficulty: Easy\n",
    "\n",
    "Write an algorithm to determine if a number n is happy.\n",
    "\n",
    "A happy number is a number defined by the following process:\n",
    "\n",
    "Starting with any positive integer, replace the number by the sum of the squares of its digits.\n",
    "Repeat the process until the number equals 1 (where it will stay), or it loops endlessly in a cycle which does not include 1.\n",
    "Those numbers for which this process ends in 1 are happy.\n",
    "Return true if n is a happy number, and false if not.\n",
    "\n",
    "**Example**\n",
    "```\n",
    "Input: n = 19\n",
    "Output: true\n",
    "Explanation:\n",
    "1^2 + 9^2 = 82\n",
    "8^2 + 2^2 = 68\n",
    "6^2 + 8^2 = 100\n",
    "1^2 + 0^2 + 0^2 = 1\n",
    "```"
   ]
  },
  {
   "cell_type": "code",
   "execution_count": 7,
   "id": "13fce4cf",
   "metadata": {},
   "outputs": [],
   "source": [
    "class Solution:\n",
    "    def isHappy(self, n:int) -> bool:\n",
    "        total = 0 # set total \n",
    "        nums = set() # create set\n",
    "        while total != 1: \n",
    "            if (n in nums): # if n is in the set, it is an infinite loop and end program\n",
    "                return False\n",
    "            total = 0 # reset total\n",
    "            nums.add(n) # add n to set\n",
    "            for num in list(str(n)):\n",
    "                total += int(num)**2\n",
    "            n = total\n",
    "\n",
    "        return True"
   ]
  },
  {
   "cell_type": "code",
   "execution_count": 8,
   "id": "3e3d0610",
   "metadata": {},
   "outputs": [
    {
     "data": {
      "text/plain": [
       "False"
      ]
     },
     "execution_count": 8,
     "metadata": {},
     "output_type": "execute_result"
    }
   ],
   "source": [
    "soln = Solution()\n",
    "soln.isHappy(2)"
   ]
  },
  {
   "cell_type": "code",
   "execution_count": null,
   "id": "373b9962",
   "metadata": {},
   "outputs": [],
   "source": [
    "class Solution:\n",
    "    def plusOne(self, digits: List[int]) -> List[int]:"
   ]
  },
  {
   "cell_type": "markdown",
   "id": "8b25826f",
   "metadata": {},
   "source": [
    "My approach to this problem was to  "
   ]
  }
 ],
 "metadata": {
  "kernelspec": {
   "display_name": "Python 3 (ipykernel)",
   "language": "python",
   "name": "python3"
  },
  "language_info": {
   "codemirror_mode": {
    "name": "ipython",
    "version": 3
   },
   "file_extension": ".py",
   "mimetype": "text/x-python",
   "name": "python",
   "nbconvert_exporter": "python",
   "pygments_lexer": "ipython3",
   "version": "3.10.9"
  }
 },
 "nbformat": 4,
 "nbformat_minor": 5
}
