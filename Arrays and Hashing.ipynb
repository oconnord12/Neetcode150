{
 "cells": [
  {
   "cell_type": "markdown",
   "id": "718dae30",
   "metadata": {},
   "source": [
    "# Arrays and Hashing"
   ]
  },
  {
   "cell_type": "markdown",
   "id": "9f8e81bd",
   "metadata": {},
   "source": [
    "### Question 1: Contains Duplicate\n",
    "#### Difficulty: Easy\n",
    "\n",
    "Given an integer array nums, return true if any value appears at least twice in the array, and return false if every element is distinct.\n",
    "\n",
    "**Example**\n",
    "```\n",
    "Input: nums = [1,2,3,1]\n",
    "Output: true\n",
    "```"
   ]
  },
  {
   "cell_type": "code",
   "execution_count": 132,
   "id": "8ba2ad1d",
   "metadata": {},
   "outputs": [],
   "source": [
    "class Solution:\n",
    "    def containsDuplicate(self, nums) -> bool:\n",
    "        set_nums = set(nums)\n",
    "        return (len(set_nums) != len(nums))"
   ]
  },
  {
   "cell_type": "code",
   "execution_count": 133,
   "id": "c2cca064",
   "metadata": {},
   "outputs": [
    {
     "data": {
      "text/plain": [
       "True"
      ]
     },
     "execution_count": 133,
     "metadata": {},
     "output_type": "execute_result"
    }
   ],
   "source": [
    "soln = Solution()\n",
    "soln.containsDuplicate([1,2,3,4,2])"
   ]
  },
  {
   "cell_type": "markdown",
   "id": "66f9e650",
   "metadata": {},
   "source": [
    "The idea here is to utilize a set, which is a list that contains only unique elements. By making the list of nums into a set and comparing the length of the set of numbers to the length of the numbers we can see if there are any duplicates"
   ]
  },
  {
   "cell_type": "markdown",
   "id": "001399ba",
   "metadata": {},
   "source": [
    "### Question 2: Valid Anagram\n",
    "#### DIfficulty: Easy\n",
    "\n",
    "Given two strings s and t, return true if t is an anagram of s, and false otherwise.\n",
    "\n",
    "An Anagram is a word or phrase formed by rearranging the letters of a different word or phrase, typically using all the original letters exactly once.\n",
    "\n",
    "**Example**\n",
    "```\n",
    "Input: s = \"anagram\", t = \"nagaram\"\n",
    "Output: true\n",
    "```"
   ]
  },
  {
   "cell_type": "code",
   "execution_count": 134,
   "id": "ca4e1b2e",
   "metadata": {},
   "outputs": [],
   "source": [
    "class Solution:\n",
    "    def isAnagram(self, s: str, t: str) -> bool:\n",
    "        s_list = sorted(list(s))\n",
    "        t_list = sorted(list(t))\n",
    "        return s_list == t_list"
   ]
  },
  {
   "cell_type": "code",
   "execution_count": 135,
   "id": "d3a49a93",
   "metadata": {},
   "outputs": [
    {
     "data": {
      "text/plain": [
       "True"
      ]
     },
     "execution_count": 135,
     "metadata": {},
     "output_type": "execute_result"
    }
   ],
   "source": [
    "soln =  Solution()\n",
    "soln.isAnagram('anagram','nagaram')"
   ]
  },
  {
   "cell_type": "markdown",
   "id": "d74d0a1e",
   "metadata": {},
   "source": [
    "Here the strings `s` and `t` are turned into a list. The sorted method then places them in alphabetical order. Finally an element to element comparison is done to see if the lists are the same. "
   ]
  },
  {
   "cell_type": "markdown",
   "id": "d898d4a8",
   "metadata": {},
   "source": [
    "### Question 3: Two Sum\n",
    "#### Difficulty: Easy\n",
    "Given an array of integers nums and an integer target, return indices of the two numbers such that they add up to target.\n",
    "\n",
    "You may assume that each input would have exactly one solution, and you may not use the same element twice.\n",
    "\n",
    "You can return the answer in any order.\n",
    "\n",
    "**Example**\n",
    "```\n",
    "Input: nums = [2,7,11,15], target = 9\n",
    "Output: [0,1]\n",
    "Explanation: Because nums[0] + nums[1] == 9, we return [0, 1].\n",
    "```\n"
   ]
  },
  {
   "cell_type": "code",
   "execution_count": 142,
   "id": "c9417d95",
   "metadata": {},
   "outputs": [],
   "source": [
    "class Solution:\n",
    "    def twoSum(self, nums: list, target: int) -> list[int]:\n",
    "        length = len(nums)\n",
    "        for i in range(0,length):\n",
    "            for j in range(i+1,length):\n",
    "                if nums[i] + nums[j] == target:\n",
    "                    return [i,j]"
   ]
  },
  {
   "cell_type": "code",
   "execution_count": 143,
   "id": "d4c44033",
   "metadata": {},
   "outputs": [
    {
     "data": {
      "text/plain": [
       "[0, 1]"
      ]
     },
     "execution_count": 143,
     "metadata": {},
     "output_type": "execute_result"
    }
   ],
   "source": [
    "soln = Solution()\n",
    "soln.twoSum([3,3,4,5],6)"
   ]
  },
  {
   "cell_type": "markdown",
   "id": "b61f808b",
   "metadata": {},
   "source": [
    "First I find the length of the input list `nums`. Then iterate through all values, for each iteration, I will be checking all other values in the list to see if they add up to the target.\n",
    "\n",
    "\n",
    "The algorithm is checking `nums[i] + nums[i+1 .... length] == target`\n",
    "\n",
    "\n",
    "This is a brute force method for checking all possibilites. Definitely not the most efficient."
   ]
  },
  {
   "cell_type": "code",
   "execution_count": 137,
   "id": "57e135fd",
   "metadata": {},
   "outputs": [],
   "source": [
    "# work in progress to complete the problem with one less for loop. \n",
    "def twoSum(nums, target):\n",
    "        set_nums = set(nums)\n",
    "        for number in nums:\n",
    "            remainder = target - number\n",
    "            if remainder in nums:\n",
    "                index = nums.index(number)\n",
    "                if (len(set_nums) == len(nums)):\n",
    "                    return [index, nums.index(remainder)]\n",
    "                else:\n",
    "                    nums.pop(index)\n",
    "                    return [index, nums.index(remainder)+1]"
   ]
  },
  {
   "cell_type": "code",
   "execution_count": 138,
   "id": "78706051",
   "metadata": {},
   "outputs": [
    {
     "data": {
      "text/plain": [
       "[0, 0]"
      ]
     },
     "execution_count": 138,
     "metadata": {},
     "output_type": "execute_result"
    }
   ],
   "source": [
    "twoSum([3,4,2],6) #where the issue is arising. 3 is also the remainder... Will fix later"
   ]
  },
  {
   "cell_type": "code",
   "execution_count": 139,
   "id": "d8450a11",
   "metadata": {},
   "outputs": [
    {
     "data": {
      "text/plain": [
       "2"
      ]
     },
     "execution_count": 139,
     "metadata": {},
     "output_type": "execute_result"
    }
   ],
   "source": []
  },
  {
   "cell_type": "markdown",
   "id": "739508c0",
   "metadata": {},
   "source": [
    "### Question 4: Group Anagrams\n",
    "#### Difficulty: Medium\n",
    "\n",
    "Given an array of strings strs, group the anagrams together. You can return the answer in any order.\n",
    "\n",
    "An Anagram is a word or phrase formed by rearranging the letters of a different word or phrase, typically using all the original letters exactly once.\n",
    "\n",
    "**Example**\n",
    "\n",
    "```\n",
    "Input: strs = [\"eat\",\"tea\",\"tan\",\"ate\",\"nat\",\"bat\"]\n",
    "Output: [[\"bat\"],[\"nat\",\"tan\"],[\"ate\",\"eat\",\"tea\"]]\n",
    "```"
   ]
  },
  {
   "cell_type": "code",
   "execution_count": 44,
   "id": "7447e610",
   "metadata": {},
   "outputs": [],
   "source": [
    "class Solution:\n",
    "    def groupAnagrams(self, strs: list[str]) -> list[list[str]]:\n",
    "        length = len(strs)\n",
    "        for word in strs:\n",
    "               "
   ]
  },
  {
   "cell_type": "code",
   "execution_count": 45,
   "id": "5a2f9b0e",
   "metadata": {},
   "outputs": [
    {
     "name": "stdout",
     "output_type": "stream",
     "text": [
      "eat 0\n",
      "tea 1\n",
      "tan 2\n",
      "ate 3\n",
      "nat 4\n",
      "bat 5\n"
     ]
    }
   ],
   "source": [
    "soln = Solution()\n",
    "soln.groupAnagrams([\"eat\",\"tea\",\"tan\",\"ate\",\"nat\",\"bat\"])"
   ]
  },
  {
   "cell_type": "code",
   "execution_count": 15,
   "id": "1000dd72",
   "metadata": {},
   "outputs": [
    {
     "ename": "SyntaxError",
     "evalue": "incomplete input (1702677571.py, line 5)",
     "output_type": "error",
     "traceback": [
      "\u001b[1;36m  Cell \u001b[1;32mIn[15], line 5\u001b[1;36m\u001b[0m\n\u001b[1;33m    \u001b[0m\n\u001b[1;37m    ^\u001b[0m\n\u001b[1;31mSyntaxError\u001b[0m\u001b[1;31m:\u001b[0m incomplete input\n"
     ]
    }
   ],
   "source": [
    "def groupAna(strs):\n",
    "    length = len(str)\n",
    "    for i in range(0,length):\n",
    "        for j in range(i+1,length):\n",
    "            "
   ]
  },
  {
   "cell_type": "code",
   "execution_count": 8,
   "id": "6ead5163",
   "metadata": {},
   "outputs": [
    {
     "data": {
      "text/plain": [
       "2"
      ]
     },
     "execution_count": 8,
     "metadata": {},
     "output_type": "execute_result"
    }
   ],
   "source": [
    "a = ['anagram','ralph']\n",
    "len(a)"
   ]
  },
  {
   "cell_type": "code",
   "execution_count": 17,
   "id": "58e751c0",
   "metadata": {},
   "outputs": [
    {
     "name": "stdout",
     "output_type": "stream",
     "text": [
      "eat tea\n",
      "eat tan\n",
      "eat ate\n",
      "eat nat\n",
      "eat bat\n"
     ]
    },
    {
     "ename": "IndexError",
     "evalue": "list index out of range",
     "output_type": "error",
     "traceback": [
      "\u001b[1;31m---------------------------------------------------------------------------\u001b[0m",
      "\u001b[1;31mIndexError\u001b[0m                                Traceback (most recent call last)",
      "Cell \u001b[1;32mIn[17], line 2\u001b[0m\n\u001b[0;32m      1\u001b[0m soln \u001b[38;5;241m=\u001b[39m Solution()\n\u001b[1;32m----> 2\u001b[0m \u001b[43msoln\u001b[49m\u001b[38;5;241;43m.\u001b[39;49m\u001b[43mgroupAnagrams\u001b[49m\u001b[43m(\u001b[49m\u001b[43m[\u001b[49m\u001b[38;5;124;43m\"\u001b[39;49m\u001b[38;5;124;43meat\u001b[39;49m\u001b[38;5;124;43m\"\u001b[39;49m\u001b[43m,\u001b[49m\u001b[38;5;124;43m\"\u001b[39;49m\u001b[38;5;124;43mtea\u001b[39;49m\u001b[38;5;124;43m\"\u001b[39;49m\u001b[43m,\u001b[49m\u001b[38;5;124;43m\"\u001b[39;49m\u001b[38;5;124;43mtan\u001b[39;49m\u001b[38;5;124;43m\"\u001b[39;49m\u001b[43m,\u001b[49m\u001b[38;5;124;43m\"\u001b[39;49m\u001b[38;5;124;43mate\u001b[39;49m\u001b[38;5;124;43m\"\u001b[39;49m\u001b[43m,\u001b[49m\u001b[38;5;124;43m\"\u001b[39;49m\u001b[38;5;124;43mnat\u001b[39;49m\u001b[38;5;124;43m\"\u001b[39;49m\u001b[43m,\u001b[49m\u001b[38;5;124;43m\"\u001b[39;49m\u001b[38;5;124;43mbat\u001b[39;49m\u001b[38;5;124;43m\"\u001b[39;49m\u001b[43m]\u001b[49m\u001b[43m)\u001b[49m\n",
      "Cell \u001b[1;32mIn[16], line 6\u001b[0m, in \u001b[0;36mSolution.groupAnagrams\u001b[1;34m(self, strs)\u001b[0m\n\u001b[0;32m      4\u001b[0m \u001b[38;5;28;01mfor\u001b[39;00m i \u001b[38;5;129;01min\u001b[39;00m \u001b[38;5;28mrange\u001b[39m(\u001b[38;5;241m0\u001b[39m,length\u001b[38;5;241m+\u001b[39m\u001b[38;5;241m1\u001b[39m):\n\u001b[0;32m      5\u001b[0m     \u001b[38;5;28;01mfor\u001b[39;00m j \u001b[38;5;129;01min\u001b[39;00m \u001b[38;5;28mrange\u001b[39m(i\u001b[38;5;241m+\u001b[39m\u001b[38;5;241m1\u001b[39m,length\u001b[38;5;241m+\u001b[39m\u001b[38;5;241m1\u001b[39m):\n\u001b[1;32m----> 6\u001b[0m         \u001b[38;5;28mprint\u001b[39m(strs[i],\u001b[43mstrs\u001b[49m\u001b[43m[\u001b[49m\u001b[43mj\u001b[49m\u001b[43m]\u001b[49m)\n",
      "\u001b[1;31mIndexError\u001b[0m: list index out of range"
     ]
    }
   ],
   "source": [
    "soln = Solution()\n",
    "soln.groupAnagrams([\"eat\",\"tea\",\"tan\",\"ate\",\"nat\",\"bat\"])"
   ]
  }
 ],
 "metadata": {
  "kernelspec": {
   "display_name": "Python 3 (ipykernel)",
   "language": "python",
   "name": "python3"
  },
  "language_info": {
   "codemirror_mode": {
    "name": "ipython",
    "version": 3
   },
   "file_extension": ".py",
   "mimetype": "text/x-python",
   "name": "python",
   "nbconvert_exporter": "python",
   "pygments_lexer": "ipython3",
   "version": "3.10.9"
  }
 },
 "nbformat": 4,
 "nbformat_minor": 5
}
